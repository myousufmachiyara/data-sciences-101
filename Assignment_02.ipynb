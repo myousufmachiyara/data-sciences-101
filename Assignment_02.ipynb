{
  "nbformat": 4,
  "nbformat_minor": 0,
  "metadata": {
    "colab": {
      "provenance": []
    },
    "kernelspec": {
      "name": "python3",
      "display_name": "Python 3"
    },
    "language_info": {
      "name": "python"
    }
  },
  "cells": [
    {
      "cell_type": "markdown",
      "source": [
        "## Task 01:\n",
        "\n",
        "Print Your Name with your Father name and Date of birth using suitable escape sequence charactor\n",
        "\n"
      ],
      "metadata": {
        "id": "bb0O0xtk1v9t"
      }
    },
    {
      "cell_type": "code",
      "source": [
        "print(\"My name is Yousuf Sohail \\nMy father name is Sohail \\nMy date of birth is 11-10-1996\")"
      ],
      "metadata": {
        "id": "U7LLGIkO2Ixa",
        "colab": {
          "base_uri": "https://localhost:8080/"
        },
        "outputId": "c638e5c9-e438-46f2-c52a-507dac1b4797"
      },
      "execution_count": 3,
      "outputs": [
        {
          "output_type": "stream",
          "name": "stdout",
          "text": [
            "My name is Yousuf Sohail \n",
            "My father name is Sohail \n",
            "My date of birth is 11-10-1996\n"
          ]
        }
      ]
    },
    {
      "cell_type": "markdown",
      "source": [
        "# Task 02:\n",
        "\n",
        "Write your small bio using variables and print it using print function"
      ],
      "metadata": {
        "id": "TU-xwiLV2NgB"
      }
    },
    {
      "cell_type": "code",
      "source": [
        "bio = \"I am a Software Engineer with an experience of more than 2 years in web application development. \\nI completed my graduation im BSCS from Muhammad Ali Jinnah University in Feb, 2022.\"\n",
        "print(bio)"
      ],
      "metadata": {
        "id": "Dw8w3rwl2wDB",
        "colab": {
          "base_uri": "https://localhost:8080/"
        },
        "outputId": "f21d891e-7bf0-401e-9b76-643e83fe59a0"
      },
      "execution_count": 5,
      "outputs": [
        {
          "output_type": "stream",
          "name": "stdout",
          "text": [
            "I am a Software Engineer with an experience of more than 2 years in web application development. \n",
            "I completed my graduation im BSCS from Muhammad Ali Jinnah University in Feb, 2022.\n"
          ]
        }
      ]
    },
    {
      "cell_type": "markdown",
      "source": [
        "# Task 03:\n",
        "\n",
        "Write a program in which use all the operators we can use in Python"
      ],
      "metadata": {
        "id": "F2lcZuDe2ztv"
      }
    },
    {
      "cell_type": "code",
      "source": [
        "a=int(input(\"Enter First Number \"))\n",
        "b=int(input(\"Enter Second Number \"))\n",
        "print(a*b)\n",
        "print(a+b)\n",
        "print(a/b)\n",
        "print(a-b)\n",
        "print(a%b)\n",
        "print(a**b)"
      ],
      "metadata": {
        "id": "lEJhzsXh3e7K",
        "colab": {
          "base_uri": "https://localhost:8080/"
        },
        "outputId": "8296ae04-a73a-4d17-adb6-29487c3225d3"
      },
      "execution_count": 9,
      "outputs": [
        {
          "output_type": "stream",
          "name": "stdout",
          "text": [
            "Enter First Number 5\n",
            "Enter Second Number 5\n",
            "25\n",
            "10\n",
            "1.0\n",
            "0\n",
            "0\n",
            "3125\n"
          ]
        }
      ]
    },
    {
      "cell_type": "markdown",
      "source": [
        "# Task 04:\n",
        "\n",
        "\n",
        "1. Mention Marks of English , Islamiat and Maths out of 100 in 3 different variables\n",
        "\n",
        "2. Mention Variable of Total Marks and assign 300 to it\n",
        "\n",
        "3. Calculate Percentage"
      ],
      "metadata": {
        "id": "i4N14TJU3l7n"
      }
    },
    {
      "cell_type": "code",
      "source": [
        "english_marks = 75\n",
        "islamiat_marks = 85\n",
        "maths_marks = 95\n",
        "total_marks = 300\n",
        "percentage = ((english_marks+islamiat_marks+maths_marks)/total_marks)*100\n",
        "print(percentage)"
      ],
      "metadata": {
        "id": "nxojzvRg5PP4",
        "colab": {
          "base_uri": "https://localhost:8080/"
        },
        "outputId": "ae1b410e-d3e3-4310-c640-b17f9d5e81eb"
      },
      "execution_count": 21,
      "outputs": [
        {
          "output_type": "stream",
          "name": "stdout",
          "text": [
            "85.0\n"
          ]
        }
      ]
    }
  ]
}