{
 "cells": [
  {
   "cell_type": "markdown",
   "metadata": {},
   "source": [
    "1) A company decided to give bonus of 5% to employee if his/her year of service is more than 5 years.\n",
    "Ask user for their salary and year of service and print the net bonus amount."
   ]
  },
  {
   "cell_type": "code",
   "execution_count": 6,
   "metadata": {},
   "outputs": [
    {
     "name": "stdin",
     "output_type": "stream",
     "text": [
      "Enter Your Salary  12000\n",
      "Enter Your Year(s) of service  4\n"
     ]
    },
    {
     "name": "stdout",
     "output_type": "stream",
     "text": [
      "We Are Sorry! You are not eligible for bonus\n"
     ]
    }
   ],
   "source": [
    "salary=int(input(\"Enter Your Salary \"))\n",
    "years=int(input(\"Enter Your Year(s) of service \"))\n",
    "\n",
    "if(years>5):\n",
    "  bonus=salary*0.05  \n",
    "  print (\"Wow! You Got bonus of Rs. \"+str(bonus)+\" From Company\")\n",
    "else:\n",
    "  print(\"We Are Sorry! You are not eligible for bonus\")"
   ]
  },
  {
   "cell_type": "markdown",
   "metadata": {},
   "source": [
    "\n",
    "2) Write a program to check whether a person is eligible for voting or not. (accept age from user) if age is greater than 17 eligible otherwise not eligible"
   ]
  },
  {
   "cell_type": "code",
   "execution_count": 10,
   "metadata": {},
   "outputs": [
    {
     "name": "stdin",
     "output_type": "stream",
     "text": [
      "Enter Your Age  19\n"
     ]
    },
    {
     "name": "stdout",
     "output_type": "stream",
     "text": [
      "Great! You Are Eligible for Voting\n"
     ]
    }
   ],
   "source": [
    "#Type your code here\n",
    "age=int(input(\"Enter Your Age \"))\n",
    "\n",
    "if(age>17):\n",
    "  print (\"Great! You Are Eligible for Voting\")\n",
    "else:\n",
    "  print(\"We Are Sorry! You are not eligible for Voting\")"
   ]
  },
  {
   "cell_type": "markdown",
   "metadata": {},
   "source": [
    "\n",
    "3) Write a program to check whether a number entered by user is even or odd."
   ]
  },
  {
   "cell_type": "code",
   "execution_count": 12,
   "metadata": {},
   "outputs": [
    {
     "name": "stdin",
     "output_type": "stream",
     "text": [
      "Enter Any Number  5\n"
     ]
    },
    {
     "name": "stdout",
     "output_type": "stream",
     "text": [
      "This is Odd Number\n"
     ]
    }
   ],
   "source": [
    "#Type your code here\n",
    "number=int(input(\"Enter Any Number \"))\n",
    "\n",
    "if(number%2==0):\n",
    "  print(\"This is even Number\")\n",
    "else:\n",
    "  print(\"This is Odd Number\")"
   ]
  },
  {
   "cell_type": "markdown",
   "metadata": {},
   "source": [
    "4) Write a program to check whether a number is divisible by 7 or not.\n",
    "Show Answer"
   ]
  },
  {
   "cell_type": "code",
   "execution_count": 15,
   "metadata": {},
   "outputs": [
    {
     "name": "stdin",
     "output_type": "stream",
     "text": [
      "Enter Any Number  21\n"
     ]
    },
    {
     "name": "stdout",
     "output_type": "stream",
     "text": [
      "This Number is divisible by 7\n"
     ]
    }
   ],
   "source": [
    "#Type your code here\n",
    "number=int(input(\"Enter Any Number \"))\n",
    "\n",
    "if(number%7==0):\n",
    "  print(\"This Number is divisible by 7\")\n",
    "else:\n",
    "  print(\"This Number is not divisible by 7\")"
   ]
  },
  {
   "cell_type": "markdown",
   "metadata": {},
   "source": [
    "5) Write a program to display \n",
    "\"Hello\" if a number entered by user is a multiple of five , otherwise print \"Bye\"."
   ]
  },
  {
   "cell_type": "code",
   "execution_count": 17,
   "metadata": {},
   "outputs": [
    {
     "name": "stdin",
     "output_type": "stream",
     "text": [
      "Enter Any Number  12\n"
     ]
    },
    {
     "name": "stdout",
     "output_type": "stream",
     "text": [
      "This Number is not multiple of 5\n"
     ]
    }
   ],
   "source": [
    "#Type your code here\n",
    "number=int(input(\"Enter Any Number \"))\n",
    "\n",
    "if(number%5==0):\n",
    "  print(\"This Number is multiple of 5\")\n",
    "else:\n",
    "  print(\"This Number is not multiple of 5\")"
   ]
  },
  {
   "cell_type": "markdown",
   "metadata": {},
   "source": [
    "7) Write a program to display the last digit of a number.\n"
   ]
  },
  {
   "cell_type": "code",
   "execution_count": 10,
   "metadata": {},
   "outputs": [
    {
     "name": "stdin",
     "output_type": "stream",
     "text": [
      "Enter Number:  297\n"
     ]
    },
    {
     "name": "stdout",
     "output_type": "stream",
     "text": [
      "Last Digit is:  7\n"
     ]
    }
   ],
   "source": [
    "#Type your code here\n",
    "number=int(input(\"Enter Number: \"))\n",
    "print(\"Last Digit is: \",number%10)"
   ]
  },
  {
   "cell_type": "markdown",
   "metadata": {},
   "source": [
    "9) Take values of length and breadth of a rectangle from user and print if it is square or rectangle."
   ]
  },
  {
   "cell_type": "code",
   "execution_count": 20,
   "metadata": {},
   "outputs": [
    {
     "name": "stdin",
     "output_type": "stream",
     "text": [
      "Enter length  3\n",
      "Enter breadth  4\n"
     ]
    },
    {
     "name": "stdout",
     "output_type": "stream",
     "text": [
      "Its Rectangle\n"
     ]
    }
   ],
   "source": [
    "#Type your code here \n",
    "length=int(input(\"Enter length \"))\n",
    "breadth=int(input(\"Enter breadth \"))\n",
    "\n",
    "if(length==breadth):\n",
    "    print(\"Its Square\")\n",
    "else:\n",
    "    print(\"Its Rectangle\")\n"
   ]
  },
  {
   "cell_type": "markdown",
   "metadata": {},
   "source": [
    "10) Take two int values from user and print greatest among them."
   ]
  },
  {
   "cell_type": "code",
   "execution_count": 23,
   "metadata": {},
   "outputs": [
    {
     "name": "stdin",
     "output_type": "stream",
     "text": [
      "Enter Value 1  3\n",
      "Enter Value 2  2\n"
     ]
    },
    {
     "name": "stdout",
     "output_type": "stream",
     "text": [
      "Value 1 is greater than value 2\n"
     ]
    }
   ],
   "source": [
    "# Type your#Type your code here \n",
    "value1=int(input(\"Enter Value 1 \"))\n",
    "value2=int(input(\"Enter Value 2 \"))\n",
    "\n",
    "if(value1>value2):\n",
    "    print(\"Value 1 is greater than value 2\")\n",
    "elif(value2>value1):\n",
    "    print(\"Value 2 is greater than value 1\")\n",
    "else:\n",
    "    print(\"both are equal\")\n"
   ]
  },
  {
   "cell_type": "markdown",
   "metadata": {},
   "source": [
    "11) A shop will give discount of 10% if the cost of purchased quantity is more than 1000.\n",
    "Ask user for quantity\n",
    "Suppose, one unit will cost 100.\n",
    "Judge and print total cost for user."
   ]
  },
  {
   "cell_type": "code",
   "execution_count": 22,
   "metadata": {},
   "outputs": [
    {
     "name": "stdin",
     "output_type": "stream",
     "text": [
      "Enter Total Bill 1200\n"
     ]
    },
    {
     "name": "stdout",
     "output_type": "stream",
     "text": [
      "You Got Discount of Rs. 120.0\n"
     ]
    }
   ],
   "source": [
    "#Type your code here\n",
    "totalBill=int(input(\"Enter Total Bill\"))\n",
    "if(totalBill>1000):\n",
    "    Discount=totalBill*0.1\n",
    "    print(\"You Got Discount of Rs.\", Discount)"
   ]
  },
  {
   "cell_type": "markdown",
   "metadata": {},
   "source": [
    "12) A school has following rules for grading system:\n",
    "\n",
    "a. Below 25 - F\n",
    "\n",
    "b. 25 to 45 - E\n",
    "\n",
    "c. 45 to 50 - D\n",
    "\n",
    "d. 50 to 60 - C\n",
    "\n",
    "e. 60 to 80 - B\n",
    "\n",
    "f. Above 80 - A\n",
    "\n",
    "Ask user to enter marks and print the corresponding grade."
   ]
  },
  {
   "cell_type": "code",
   "execution_count": null,
   "metadata": {},
   "outputs": [],
   "source": [
    "marks =int(input(\"Enter Your Marks \"))\n",
    "\n",
    "if(marks<25):\n",
    "    print(\"You Got F Grade\")\n",
    "elif(marks=>25 and marks<=45):\n",
    "    print(\"You Got E Grade\")\n",
    "elif(marks=>46 and marks<=50):\n",
    "    print(\"You Got D Grade\")\n",
    "elif(marks=>51 and marks<=60):\n",
    "    print(\"You Got C Grade\")\n",
    "elif(marks=>61 and marks<=80):\n",
    "    print(\"You Got B Grade\")\n",
    "elif(marks=>81):\n",
    "    print(\"You Got A Grade\")\n",
    "else:\n",
    "    print(\"Please Enter Valid Marks\")\n",
    "\n"
   ]
  },
  {
   "cell_type": "markdown",
   "metadata": {},
   "source": [
    "14)A student will not be allowed to sit in exam if his/her attendence is less than 75%.\n",
    "\n",
    "Take following input from user\n",
    "\n",
    "Number of classes held\n",
    "\n",
    "Number of classes attended.\n",
    "\n",
    "And print\n",
    "\n",
    "percentage of class attended\n",
    "\n",
    "Is student is allowed to sit in exam or not.\n"
   ]
  },
  {
   "cell_type": "code",
   "execution_count": 9,
   "metadata": {},
   "outputs": [
    {
     "name": "stdin",
     "output_type": "stream",
     "text": [
      "Number Of Total Classes Held:  12\n",
      "Number Of Classes Attended:  9\n"
     ]
    },
    {
     "name": "stdout",
     "output_type": "stream",
     "text": [
      "Your Attendence Is:  75 %\n",
      "Great! You are allowed to sit in exam\n"
     ]
    }
   ],
   "source": [
    "totalClasses = int(input(\"Number Of Total Classes Held: \"))\n",
    "attendedClasses = int(input(\"Number Of Classes Attended: \"))\n",
    "\n",
    "attendencePercentage=int((attendedClasses/totalClasses)*100)\n",
    "\n",
    "print(\"Your Attendence Is: \",attendencePercentage,\"%\")\n",
    "\n",
    "if(attendencePercentage<75):\n",
    "    print(\"Sorry, you are not allowed to sit in exam\")\n",
    "elif(attendencePercentage>=75):\n",
    "    print(\"Great! You are allowed to sit in exam\")"
   ]
  },
  {
   "cell_type": "markdown",
   "metadata": {},
   "source": [
    "15) Modify the above question to allow student to sit if he/she has medical cause. Ask user if he/she has medical cause or not ( 'Y' or 'N' ) and print accordingly."
   ]
  },
  {
   "cell_type": "code",
   "execution_count": 12,
   "metadata": {},
   "outputs": [
    {
     "name": "stdin",
     "output_type": "stream",
     "text": [
      "Number Of Total Classes Held:  12\n",
      "Number Of Classes Attended:  6\n"
     ]
    },
    {
     "name": "stdout",
     "output_type": "stream",
     "text": [
      "Your Attendence Is:  50 %\n"
     ]
    },
    {
     "name": "stdin",
     "output_type": "stream",
     "text": [
      "Do You Have Any Medical Cause ? (Y/N) N\n"
     ]
    },
    {
     "name": "stdout",
     "output_type": "stream",
     "text": [
      "Sorry, you are not allowed to sit in exam\n"
     ]
    }
   ],
   "source": [
    "totalClasses = int(input(\"Number Of Total Classes Held: \"))\n",
    "attendedClasses = int(input(\"Number Of Classes Attended: \"))\n",
    "\n",
    "attendencePercentage=int((attendedClasses/totalClasses)*100)\n",
    "\n",
    "print(\"Your Attendence Is: \",attendencePercentage,\"%\")\n",
    "\n",
    "if(attendencePercentage<75):\n",
    "    haveMedicalCause = input(\"Do You Have Any Medical Cause ? (Y/N)\");\n",
    "    if(haveMedicalCause==\"Y\"):\n",
    "        print(\"Great! You are allowed to sit in exam\")\n",
    "    elif(haveMedicalCause==\"N\"):\n",
    "        print(\"Sorry, you are not allowed to sit in exam\")\n",
    "    else:\n",
    "        print(\"Please Enter A Valid Answer. Y for Yes, N for No\")\n",
    "elif(attendencePercentage>=75):\n",
    "    print(\"Great! You are allowed to sit in exam\")"
   ]
  },
  {
   "cell_type": "markdown",
   "metadata": {},
   "source": [
    "16) Write a program to check if a year is leap year or not.\n",
    "\n",
    "If a year is divisible by 4 then it is leap year but if the year is century year like 2000, 1900, 2100 then it must be divisible by 400."
   ]
  },
  {
   "cell_type": "code",
   "execution_count": 21,
   "metadata": {},
   "outputs": [
    {
     "name": "stdin",
     "output_type": "stream",
     "text": [
      "Enter Number:  2100\n"
     ]
    },
    {
     "name": "stdout",
     "output_type": "stream",
     "text": [
      "Its not a leap year\n"
     ]
    }
   ],
   "source": [
    "#Type your code here\n",
    "year=int(input(\"Enter Number: \"))\n",
    "if(year%4==0 and year%100!=0):\n",
    "    print(\"Its Leap Year\")\n",
    "else:\n",
    "    print(\"Its not a leap year\")"
   ]
  },
  {
   "cell_type": "markdown",
   "metadata": {},
   "source": [
    "17) Ask user to enter age, gender ( M or F ), marital status ( Y or N ) and then using following rules print their place of service.\n",
    "\n",
    "if employee is female, then she will work only in urban areas.\n",
    "\n",
    "if employee is a male and age is in between 20 to 40 then he may work in anywhere\n",
    "\n",
    "if employee is male and age is in between 40 t0 60 then he will work in urban areas only.\n",
    "\n",
    "And any other input of age should print \"ERROR\""
   ]
  },
  {
   "cell_type": "code",
   "execution_count": 13,
   "metadata": {},
   "outputs": [
    {
     "name": "stdin",
     "output_type": "stream",
     "text": [
      "Enter Age 25\n",
      "Enter Your Gender. (M/F) M\n",
      "Enter Your Marital Status. (Y/N) Y\n"
     ]
    },
    {
     "name": "stdout",
     "output_type": "stream",
     "text": [
      "you can work anywhere\n"
     ]
    }
   ],
   "source": [
    "age = int(input(\"Enter Age\"))\n",
    "gender = input(\"Enter Your Gender. (M/F)\")\n",
    "status = input(\"Enter Your Marital Status. (Y/N)\")\n",
    "\n",
    "if(gender==\"F\"):\n",
    "    print(\"you will only work in urban areas\")\n",
    "elif(gender==\"M\"):\n",
    "    if(age>20 and age<40):\n",
    "        print(\"you may work in anywhere\")\n",
    "    elif(age>40 and age<60):\n",
    "        print(\"you will work in urban areas only\")\n",
    "    else:\n",
    "        print(\"ERROR\")\n",
    "\n"
   ]
  },
  {
   "cell_type": "markdown",
   "metadata": {},
   "source": [
    "6) Write a program to calculate the electricity bill (accept number of unit from user) according to the following criteria :\n",
    "     Unit                                                     Price  \n",
    "uptp 100 units                                             no charge\n",
    "Next 200 units                                              Rs 5 per unit\n",
    "After 200 units                                             Rs 10 per unit\n",
    "(For example if input unit is 350 than total bill amount is Rs.3500\n",
    "(For example if input unit is 97 than total bill amount is Rs.0\n",
    "(For example if input unit is 150 than total bill amount is Rs.750"
   ]
  },
  {
   "cell_type": "code",
   "execution_count": 5,
   "metadata": {},
   "outputs": [
    {
     "name": "stdin",
     "output_type": "stream",
     "text": [
      "Enter Number of Unit :  110\n"
     ]
    },
    {
     "name": "stdout",
     "output_type": "stream",
     "text": [
      "Your Total Bill is Rs. 550\n"
     ]
    }
   ],
   "source": [
    "#Type your code here\n",
    "units = int(input(\"Enter Number of Unit : \"))\n",
    "totalBill=0;\n",
    "if(units<=100):\n",
    "    print(\"Your Total Bill is Rs.\",totalBill)\n",
    "elif(units>100 and units<=200):\n",
    "    totalBill=units*5\n",
    "    print(\"Your Total Bill is Rs.\",totalBill)\n",
    "elif(units>200):\n",
    "    totalBill=units*10\n",
    "    print(\"Your Total Bill is Rs.\",totalBill)\n"
   ]
  },
  {
   "cell_type": "markdown",
   "metadata": {},
   "source": [
    "13) Take input of age of 3 people by user and determine oldest and youngest among them."
   ]
  },
  {
   "cell_type": "code",
   "execution_count": 2,
   "metadata": {},
   "outputs": [
    {
     "name": "stdin",
     "output_type": "stream",
     "text": [
      "Enter age of person 1:  10\n",
      "Enter age of person 2:  3\n",
      "Enter age of person 3:  1\n"
     ]
    },
    {
     "name": "stdout",
     "output_type": "stream",
     "text": [
      "person 1 is oldest\n",
      "person 3 is youngest\n"
     ]
    }
   ],
   "source": [
    "#Type your code here\n",
    "age1 = int(input(\"Enter age of person 1: \"))\n",
    "age2 = int(input(\"Enter age of person 2: \"))\n",
    "age3 = int(input(\"Enter age of person 3: \"))\n",
    "\n",
    "if (age1>age2 and age1>age3):\n",
    "    print(\"person 1 is oldest\")\n",
    "elif (age2>age1 and age2>age3):\n",
    "    print(\"person 2 is oldest\")\n",
    "elif (age3>age1 and age3>age2):\n",
    "    print(\"person 3 is oldest\")\n",
    "\n",
    "if (age1<age2 and age1<age3):\n",
    "    print(\"person 1 is youngest\")\n",
    "elif (age2<age1 and age2<age3):\n",
    "    print(\"person 2 is youngest\")\n",
    "elif (age3<age1 and age3<age2):\n",
    "    print(\"person 3 is youngest\")\n",
    "\n"
   ]
  },
  {
   "cell_type": "code",
   "execution_count": null,
   "metadata": {},
   "outputs": [],
   "source": []
  }
 ],
 "metadata": {
  "kernelspec": {
   "display_name": "Python 3 (ipykernel)",
   "language": "python",
   "name": "python3"
  },
  "language_info": {
   "codemirror_mode": {
    "name": "ipython",
    "version": 3
   },
   "file_extension": ".py",
   "mimetype": "text/x-python",
   "name": "python",
   "nbconvert_exporter": "python",
   "pygments_lexer": "ipython3",
   "version": "3.11.7"
  }
 },
 "nbformat": 4,
 "nbformat_minor": 4
}
