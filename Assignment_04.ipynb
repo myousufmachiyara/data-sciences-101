{
 "cells": [
  {
   "cell_type": "markdown",
   "id": "e902d1b0-a8fb-42b8-90a5-539ba9cc42bd",
   "metadata": {},
   "source": [
    "#### List Question"
   ]
  },
  {
   "cell_type": "markdown",
   "id": "b3193e5e-3507-42d2-a54c-708ec3b1d2ff",
   "metadata": {},
   "source": [
    "Question # 1"
   ]
  },
  {
   "cell_type": "code",
   "execution_count": 6,
   "id": "6e827163-b56f-43c8-bf2d-21194fb7304f",
   "metadata": {},
   "outputs": [
    {
     "name": "stdout",
     "output_type": "stream",
     "text": [
      "['1', '3', '5', '7', '9']\n"
     ]
    }
   ],
   "source": [
    "list = ['1','2','3','4','5','6','7','8','9'];\n",
    "print(list[::2])"
   ]
  },
  {
   "cell_type": "markdown",
   "id": "df01a74f-fce5-45e3-9c4c-751c2f8aff70",
   "metadata": {},
   "source": [
    "Question # 2"
   ]
  },
  {
   "cell_type": "code",
   "execution_count": 23,
   "id": "a231085b-6c35-41c1-a952-ad87262c9c45",
   "metadata": {},
   "outputs": [
    {
     "name": "stdout",
     "output_type": "stream",
     "text": [
      "['9', '8', '7', '6', '5', '4', '3', '2', '1']\n",
      "['9', '8', '7', '6', '5', '4', '3', '2', '1']\n"
     ]
    }
   ],
   "source": [
    "list = ['1','2','3','4','5','6','7','8','9'];\n",
    "\n",
    "#method 1\n",
    "print(list[::-1])\n",
    "\n",
    "#method 2\n",
    "list.sort(reverse=True)\n",
    "print(list)"
   ]
  },
  {
   "cell_type": "markdown",
   "id": "7ff9817f-181a-43c1-812a-3bb46a94fa8d",
   "metadata": {},
   "source": [
    "Question # 3"
   ]
  },
  {
   "cell_type": "code",
   "execution_count": 20,
   "id": "3e7b4a02-3e72-42f7-91ec-f3dab5a4c540",
   "metadata": {},
   "outputs": [
    {
     "name": "stdin",
     "output_type": "stream",
     "text": [
      "Enter number of elements :  7\n",
      " 2\n",
      " 9\n",
      " 3\n",
      " 1\n",
      " 0\n",
      " 8\n",
      " 4\n"
     ]
    },
    {
     "name": "stdout",
     "output_type": "stream",
     "text": [
      "max value in list is: 9\n"
     ]
    }
   ],
   "source": [
    "list = []\n",
    "max_num = 0\n",
    "n = int(input(\"Enter number of elements : \"))\n",
    " \n",
    "for i in range(0, n):\n",
    "    element = int(input())\n",
    "    list.append(element)\n",
    "    if(element>max_num):\n",
    "        max_num=element\n",
    "print(\"max value in list is:\", max_num)"
   ]
  },
  {
   "cell_type": "markdown",
   "id": "5eb943f2-af88-4e77-a79b-d75c3c37a955",
   "metadata": {},
   "source": [
    "Question # 4"
   ]
  },
  {
   "cell_type": "code",
   "execution_count": 28,
   "id": "9d628a8e-3df7-497b-9028-2d289849d0ef",
   "metadata": {},
   "outputs": [
    {
     "name": "stdout",
     "output_type": "stream",
     "text": [
      "['9', '1', '2', '3', '4', '5', '6', '7', '8']\n"
     ]
    }
   ],
   "source": [
    "# move elements 1 index forward\n",
    "list = ['1','2','3','4','5','6','7','8','9'];\n",
    "updated_list = shift_elements_forward(list)\n",
    "print(updated_list)"
   ]
  },
  {
   "cell_type": "markdown",
   "id": "79987711-a946-4fad-9af2-cd3de2328dcb",
   "metadata": {},
   "source": [
    "Question # 5"
   ]
  },
  {
   "cell_type": "code",
   "execution_count": 30,
   "id": "989b55f7-4bc8-4a47-bc16-db9a16898c38",
   "metadata": {},
   "outputs": [
    {
     "name": "stdin",
     "output_type": "stream",
     "text": [
      "Enter Text:  hello world\n",
      "Enter word you want to delete from given text:  hello\n"
     ]
    },
    {
     "name": "stdout",
     "output_type": "stream",
     "text": [
      " world\n"
     ]
    }
   ],
   "source": [
    "text = input(\"Enter Text: \")\n",
    "deleteWord = input(\"Enter word you want to delete from given text: \")\n",
    "\n",
    "print(text.replace(deleteWord, \"\"))\n"
   ]
  },
  {
   "cell_type": "markdown",
   "id": "21b657e8-1e87-446a-840c-0de36ae09ff3",
   "metadata": {},
   "source": [
    "Question # 6"
   ]
  },
  {
   "cell_type": "code",
   "execution_count": null,
   "id": "57d07770-bd43-4175-add0-b73886c2fe98",
   "metadata": {},
   "outputs": [],
   "source": []
  },
  {
   "cell_type": "markdown",
   "id": "9eed7277-3cac-4ea4-aede-0610c8f9fef1",
   "metadata": {},
   "source": [
    "Question # 7"
   ]
  },
  {
   "cell_type": "code",
   "execution_count": 32,
   "id": "53c9a3e7-63c8-440d-85da-9ed6aa840f8e",
   "metadata": {},
   "outputs": [
    {
     "name": "stdin",
     "output_type": "stream",
     "text": [
      "Enter Text:  stop and smell the roses\n"
     ]
    },
    {
     "name": "stdout",
     "output_type": "stream",
     "text": [
      "Stop And Smell The Roses\n"
     ]
    }
   ],
   "source": [
    "text = input(\"Enter Text: \")\n",
    "print (text.title())"
   ]
  },
  {
   "cell_type": "markdown",
   "id": "d2c65dfe-e6cf-4f02-9f3b-e6688d50616d",
   "metadata": {},
   "source": [
    "Question # 8"
   ]
  },
  {
   "cell_type": "code",
   "execution_count": 2,
   "id": "5f31a1b5-d857-4ff0-ae5e-6ab2b11fe38d",
   "metadata": {},
   "outputs": [
    {
     "name": "stdout",
     "output_type": "stream",
     "text": [
      "6\n",
      "15\n",
      "24\n"
     ]
    }
   ],
   "source": [
    "matrix = [\n",
    "    [1, 2, 3],\n",
    "    [4, 5, 6],\n",
    "    [7, 8, 9]\n",
    "]\n",
    "for i in range(0, len(matrix)):\n",
    "    rowsum=0\n",
    "    for j in range (0, len(matrix[i])):\n",
    "        rowsum=rowsum+matrix[i][j]\n",
    "    print(rowsum)\n"
   ]
  },
  {
   "cell_type": "markdown",
   "id": "bd6e70d1-6adc-4ad3-b88f-f946adede5b6",
   "metadata": {},
   "source": [
    "Question # 9"
   ]
  },
  {
   "cell_type": "code",
   "execution_count": 3,
   "id": "bec800ff-c75d-4a33-ba1d-ca7079e0314f",
   "metadata": {},
   "outputs": [
    {
     "name": "stdout",
     "output_type": "stream",
     "text": [
      "[2, 4, 6]\n",
      "[8, 10, 12]\n",
      "[14, 16, 18]\n"
     ]
    }
   ],
   "source": [
    "matrix1 = [\n",
    "    [1, 2, 3],\n",
    "    [4, 5, 6],\n",
    "    [7, 8, 9]\n",
    "]\n",
    "matrix2 = [\n",
    "    [1, 2, 3],\n",
    "    [4, 5, 6],\n",
    "    [7, 8, 9]\n",
    "]\n",
    "\n",
    "for i in range(0, len(matrix1)):\n",
    "    for j in range (0, len(matrix1[i])):\n",
    "        matrix1[i][j]=matrix1[i][j]+matrix2[i][j]\n",
    "    print(matrix1[i])\n",
    "\n"
   ]
  },
  {
   "cell_type": "markdown",
   "id": "65e4af69-d4a1-4b55-a126-a36f10e5d5e0",
   "metadata": {},
   "source": [
    "Question # 10"
   ]
  },
  {
   "cell_type": "code",
   "execution_count": 35,
   "id": "47e0effd-e43a-4998-afa8-ec2945fa3e0a",
   "metadata": {},
   "outputs": [
    {
     "name": "stdout",
     "output_type": "stream",
     "text": [
      "[19, 22]\n",
      "[43, 50]\n"
     ]
    }
   ],
   "source": [
    "matrix1 = [\n",
    "    [1, 2],\n",
    "    [3, 4]\n",
    "]\n",
    "matrix2 = [\n",
    "    [5, 6],\n",
    "    [7, 8]\n",
    "]\n",
    "\n",
    "finalMatrix=[[0 for _ in range(len(matrix2[0]))] for _ in range(len(matrix1))]\n",
    "\n",
    "for i in range(len(matrix1)):\n",
    "        for j in range(len(matrix2[0])):\n",
    "            # Calculate the dot product for result[i][j]\n",
    "            for k in range(len(matrix1[0])):\n",
    "                finalMatrix[i][j] += matrix1[i][k] * matrix2[k][j]\n",
    "        print(finalMatrix[i])\n",
    "\n",
    "                "
   ]
  },
  {
   "cell_type": "markdown",
   "id": "66c6cf00-590e-41d8-b57c-5c19a7558677",
   "metadata": {},
   "source": [
    "#### Loop Question"
   ]
  },
  {
   "cell_type": "markdown",
   "id": "36e9daf9-3b80-4bb2-8526-6f29d06c3e85",
   "metadata": {},
   "source": [
    "Question 1"
   ]
  },
  {
   "cell_type": "code",
   "execution_count": 37,
   "id": "af061773-7407-4d32-8e53-b9557f17c83c",
   "metadata": {},
   "outputs": [
    {
     "name": "stdout",
     "output_type": "stream",
     "text": [
      "1\n",
      "2\n",
      "3\n",
      "4\n",
      "5\n",
      "6\n",
      "7\n",
      "8\n",
      "9\n",
      "10\n"
     ]
    }
   ],
   "source": [
    "for i in range (1, 10):\n",
    "    print(i)"
   ]
  },
  {
   "cell_type": "markdown",
   "id": "edf5fab8-6205-41d3-a699-50fa07527d04",
   "metadata": {},
   "source": [
    "Question 2"
   ]
  },
  {
   "cell_type": "code",
   "execution_count": 40,
   "id": "d2e78d4c-3572-478b-a6d6-6e252ac6465a",
   "metadata": {},
   "outputs": [
    {
     "name": "stdout",
     "output_type": "stream",
     "text": [
      "20\n",
      "19\n",
      "18\n",
      "17\n",
      "16\n",
      "15\n",
      "14\n",
      "13\n",
      "12\n",
      "11\n",
      "10\n",
      "9\n",
      "8\n",
      "7\n",
      "6\n",
      "5\n",
      "4\n",
      "3\n",
      "2\n",
      "1\n"
     ]
    }
   ],
   "source": [
    "count = 20\n",
    "while (count > 0):\n",
    "    print(count)\n",
    "    count = count - 1"
   ]
  },
  {
   "cell_type": "markdown",
   "id": "3feae010-27a1-464d-bf2f-9df7a81aab75",
   "metadata": {},
   "source": [
    "Question 3"
   ]
  },
  {
   "cell_type": "code",
   "execution_count": 41,
   "id": "1ed5a960-ae51-4179-a88f-ef25c20a9a61",
   "metadata": {},
   "outputs": [
    {
     "name": "stdout",
     "output_type": "stream",
     "text": [
      "2\n",
      "4\n",
      "6\n",
      "8\n"
     ]
    }
   ],
   "source": [
    "for i in range (1, 10):\n",
    "    if(i%2==0):\n",
    "        print(i)"
   ]
  },
  {
   "cell_type": "markdown",
   "id": "ef8b84a3-3c38-4759-adf5-e71cd473ac43",
   "metadata": {},
   "source": [
    "Question 4"
   ]
  },
  {
   "cell_type": "code",
   "execution_count": 43,
   "id": "2f0f2fd1-a2a0-4809-8d52-037bcf4ed0ed",
   "metadata": {},
   "outputs": [
    {
     "name": "stdin",
     "output_type": "stream",
     "text": [
      "Enter Any Number:  2\n"
     ]
    },
    {
     "name": "stdout",
     "output_type": "stream",
     "text": [
      "1\n"
     ]
    }
   ],
   "source": [
    "n=int(input(\"Enter Any Number: \"))\n",
    "for i in range(1,n):\n",
    "    print(i)"
   ]
  },
  {
   "cell_type": "markdown",
   "id": "31af0da6-5d4b-4542-b4c6-2b4a671e9e91",
   "metadata": {},
   "source": [
    "Question # 5"
   ]
  },
  {
   "cell_type": "code",
   "execution_count": 44,
   "id": "27b51311-89fa-4327-8b0e-17b41b828710",
   "metadata": {},
   "outputs": [
    {
     "name": "stdin",
     "output_type": "stream",
     "text": [
      "Enter Any Number:  11\n"
     ]
    },
    {
     "name": "stdout",
     "output_type": "stream",
     "text": [
      "1\n",
      "3\n",
      "5\n",
      "7\n",
      "9\n"
     ]
    }
   ],
   "source": [
    "n=int(input(\"Enter Any Number: \"))\n",
    "for i in range(1,n):\n",
    "    if(i%2!=0):\n",
    "        print(i)"
   ]
  },
  {
   "cell_type": "markdown",
   "id": "42dbd5a9-a6dd-4782-abac-efff45a376f1",
   "metadata": {},
   "source": [
    "Question # 6"
   ]
  },
  {
   "cell_type": "code",
   "execution_count": 45,
   "id": "ad6c8080-cd02-4e58-a9fa-5c9f6d1b0682",
   "metadata": {},
   "outputs": [
    {
     "name": "stdout",
     "output_type": "stream",
     "text": [
      "Happy Birhtday\n",
      "Happy Birhtday\n",
      "Happy Birhtday\n",
      "Happy Birhtday\n",
      "Happy Birhtday\n"
     ]
    }
   ],
   "source": [
    "for i in range (0, 5):\n",
    "    print(\"Happy Birhtday\")"
   ]
  },
  {
   "cell_type": "markdown",
   "id": "1c03e2e1-ce8c-447a-ba2e-cb38eaad5fd0",
   "metadata": {},
   "source": [
    "Question # 7"
   ]
  },
  {
   "cell_type": "code",
   "execution_count": 46,
   "id": "3367a5b1-1891-4da9-a65c-228795db2a4c",
   "metadata": {},
   "outputs": [
    {
     "name": "stdin",
     "output_type": "stream",
     "text": [
      "Enter Any Number:  6\n"
     ]
    },
    {
     "name": "stdout",
     "output_type": "stream",
     "text": [
      "1\n",
      "4\n",
      "9\n",
      "16\n",
      "25\n"
     ]
    }
   ],
   "source": [
    "n=int(input(\"Enter Any Number: \"))\n",
    "for i in range(1,n):\n",
    "    print(i*i)"
   ]
  },
  {
   "cell_type": "markdown",
   "id": "e4608f91-e594-46b9-aa46-e80bfa691627",
   "metadata": {},
   "source": [
    "Question # 8"
   ]
  },
  {
   "cell_type": "code",
   "execution_count": 49,
   "id": "494e8afe-23ff-4277-af6f-2d09ae93ec2e",
   "metadata": {},
   "outputs": [
    {
     "name": "stdin",
     "output_type": "stream",
     "text": [
      "Enter Any Number:  6\n"
     ]
    },
    {
     "name": "stdout",
     "output_type": "stream",
     "text": [
      "6 x 1 = 6\n",
      "6 x 2 = 12\n",
      "6 x 3 = 18\n",
      "6 x 4 = 24\n",
      "6 x 5 = 30\n",
      "6 x 6 = 36\n",
      "6 x 7 = 42\n",
      "6 x 8 = 48\n",
      "6 x 9 = 54\n",
      "6 x 10 = 60\n"
     ]
    }
   ],
   "source": [
    "n=int(input(\"Enter Any Number: \"))\n",
    "for i in range(1,11):\n",
    "    print(n,\"x\",i,\"=\", n*i)"
   ]
  },
  {
   "cell_type": "markdown",
   "id": "53c1d051-eec8-4949-b78c-ac70ccb3e4db",
   "metadata": {},
   "source": [
    "Question # 9"
   ]
  },
  {
   "cell_type": "code",
   "execution_count": 51,
   "id": "6620bad6-6591-4bc1-9ebc-d903bb463b91",
   "metadata": {},
   "outputs": [
    {
     "name": "stdout",
     "output_type": "stream",
     "text": [
      "3\n",
      "7\n",
      "11\n",
      "15\n",
      "19\n",
      "23\n",
      "27\n",
      "31\n"
     ]
    }
   ],
   "source": [
    "number=3\n",
    "for i in range(3,11):\n",
    "    print(number)\n",
    "    number=number+4"
   ]
  },
  {
   "cell_type": "markdown",
   "id": "0bf91cbc-db39-431b-8af4-848bd048ab16",
   "metadata": {},
   "source": [
    "Question # 10"
   ]
  },
  {
   "cell_type": "code",
   "execution_count": 53,
   "id": "777d103a-8cf1-4576-879d-437683fc147e",
   "metadata": {},
   "outputs": [
    {
     "name": "stdout",
     "output_type": "stream",
     "text": [
      "2\n",
      "6\n",
      "18\n",
      "54\n",
      "162\n",
      "486\n"
     ]
    }
   ],
   "source": [
    "number=2\n",
    "for i in range(3,9):\n",
    "    print(number)\n",
    "    number=number*3"
   ]
  },
  {
   "cell_type": "markdown",
   "id": "bd8839c1-cae0-4462-95d9-7609227fbd17",
   "metadata": {},
   "source": [
    "Question # 11"
   ]
  },
  {
   "cell_type": "code",
   "execution_count": 55,
   "id": "da07037a-d361-4894-b667-e4ae18be3fea",
   "metadata": {},
   "outputs": [
    {
     "name": "stdin",
     "output_type": "stream",
     "text": [
      "Enter Any Number:  20\n"
     ]
    },
    {
     "name": "stdout",
     "output_type": "stream",
     "text": [
      "sum is:  210\n"
     ]
    }
   ],
   "source": [
    "n=int(input(\"Enter Any Number: \"))\n",
    "sum=0;\n",
    "for i in range(1,n+1):\n",
    "      sum=sum+i \n",
    "print(\"sum is: \",sum)"
   ]
  },
  {
   "cell_type": "markdown",
   "id": "b936a422-2027-4d7c-9451-5972ba890471",
   "metadata": {},
   "source": [
    "Question # 12"
   ]
  },
  {
   "cell_type": "code",
   "execution_count": 60,
   "id": "7a0eae46-96cf-4107-b467-3609c025c5a0",
   "metadata": {},
   "outputs": [
    {
     "name": "stdin",
     "output_type": "stream",
     "text": [
      "Enter Any Number:  5\n"
     ]
    },
    {
     "name": "stdout",
     "output_type": "stream",
     "text": [
      "sum of reciprocal from 1 to  5 is:  2.28\n"
     ]
    }
   ],
   "source": [
    "n=int(input(\"Enter Any Number: \"));\n",
    "sum=0;\n",
    "for i in range(1,n+1):\n",
    "      sum=sum+(1/i) \n",
    "print(\"sum of reciprocal from 1 to \",n,\"is: \",round(sum,2))"
   ]
  },
  {
   "cell_type": "markdown",
   "id": "aa1dced6-c0b1-4c5b-9eb2-ea714719c140",
   "metadata": {},
   "source": [
    "Question # 13"
   ]
  },
  {
   "cell_type": "code",
   "execution_count": 64,
   "id": "ff710c23-f86b-4144-b50f-5d36193b7fd4",
   "metadata": {},
   "outputs": [
    {
     "name": "stdin",
     "output_type": "stream",
     "text": [
      "Enter Any Number:  10\n",
      "Enter Any Number:  15\n",
      "Enter Any Number:  35\n",
      "Enter Any Number:  40\n",
      "Enter Any Number:  50\n"
     ]
    },
    {
     "name": "stdout",
     "output_type": "stream",
     "text": [
      "Final running total is: 150\n"
     ]
    }
   ],
   "source": [
    "sum=0;\n",
    "for i in range(1,6):\n",
    "    number=int(input(\"Enter Any Number: \"))\n",
    "    sum=sum+number\n",
    "print(\"Final running total is:\", sum)"
   ]
  },
  {
   "cell_type": "markdown",
   "id": "6630a644-0292-4594-8cd2-acdc8088dc7f",
   "metadata": {},
   "source": [
    "Question # 14"
   ]
  },
  {
   "cell_type": "code",
   "execution_count": 65,
   "id": "708a1a4f-6415-4d9c-911e-bd6196df632b",
   "metadata": {},
   "outputs": [
    {
     "name": "stdin",
     "output_type": "stream",
     "text": [
      "Enter Any Number:  5\n"
     ]
    },
    {
     "name": "stdout",
     "output_type": "stream",
     "text": [
      "Factorial =  120\n"
     ]
    }
   ],
   "source": [
    "number=int(input(\"Enter Any Number: \"))\n",
    "factorial = 1\n",
    "if(number<0):\n",
    "    print(\"Factorial does not exists for negative number\")\n",
    "elif(number==0):\n",
    "    print(\"Factorial = \",factorial)\n",
    "else:\n",
    "    for i in range(1,number+1):\n",
    "        factorial = factorial * i;\n",
    "    print(\"Factorial = \",factorial)\n"
   ]
  },
  {
   "cell_type": "markdown",
   "id": "08a36f63-e31c-4f80-a65d-53a1d76c40cf",
   "metadata": {},
   "source": [
    "Question # 15"
   ]
  },
  {
   "cell_type": "code",
   "execution_count": 74,
   "id": "8326ffe9-b279-4736-b75d-2ad5bd26f507",
   "metadata": {},
   "outputs": [
    {
     "name": "stdin",
     "output_type": "stream",
     "text": [
      "Enter Base:  4\n",
      "Enter Exponent:  -5\n"
     ]
    },
    {
     "name": "stdout",
     "output_type": "stream",
     "text": [
      "0.0009765625\n"
     ]
    }
   ],
   "source": [
    "base=int(input(\"Enter Base: \"))\n",
    "exp=int(input(\"Enter Exponent: \"))\n",
    "result=1\n",
    "isneg=False\n",
    "if (exp<0):\n",
    "    exp=exp * -1\n",
    "    isneg=True\n",
    "for i in range(1,exp+1):\n",
    "        result = result * base;\n",
    "if(isneg):\n",
    "    print(1/result)\n",
    "else:\n",
    "    print(result)"
   ]
  }
 ],
 "metadata": {
  "kernelspec": {
   "display_name": "Python 3 (ipykernel)",
   "language": "python",
   "name": "python3"
  },
  "language_info": {
   "codemirror_mode": {
    "name": "ipython",
    "version": 3
   },
   "file_extension": ".py",
   "mimetype": "text/x-python",
   "name": "python",
   "nbconvert_exporter": "python",
   "pygments_lexer": "ipython3",
   "version": "3.11.7"
  }
 },
 "nbformat": 4,
 "nbformat_minor": 5
}
